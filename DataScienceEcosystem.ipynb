{
 "cells": [
  {
   "cell_type": "markdown",
   "id": "8d4e9151-dcff-40ff-b1e1-f56de6045126",
   "metadata": {},
   "source": [
    "# Data Science Tools and Ecosystem"
   ]
  },
  {
   "cell_type": "markdown",
   "id": "5d0429eb-7613-4b1d-ac96-52e3b82ab370",
   "metadata": {},
   "source": [
    "In this notebook, Data Science Tools and Ecosystem are summarized."
   ]
  },
  {
   "cell_type": "markdown",
   "id": "48c6f132-2076-4aca-90d5-9b794c6218c9",
   "metadata": {},
   "source": [
    "**Objectives:**"
   ]
  },
  {
   "cell_type": "code",
   "execution_count": 60,
   "id": "3460480b-d1d4-4031-9830-c7d839ba8ff2",
   "metadata": {},
   "outputs": [
    {
     "name": "stdout",
     "output_type": "stream",
     "text": [
      "1.- Crear un cuaderno en Júpiter\n",
      "2.- Crear títulos\n",
      "3.- Utilizar celdas Markdown y Code\n",
      "4.- Crear listas ordenadas y desordenadas\n",
      "5.- Crear tablas\n",
      "6.- Utilizar expresiones aritméticas\n",
      "    6.1.- Multiplicar y sumar números\n",
      "    6.2.- Operación de división\n",
      "7.- Insertar celdas en medio de un cuader Jupyter\n",
      "8.- Añadir el autor\n",
      "9.- Compartir un cuaderno Júpyter\n"
     ]
    }
   ],
   "source": [
    "objetivos = [\"1.- Crear un cuaderno en Júpiter\", \n",
    "             \"2.- Crear títulos\",\n",
    "             \"3.- Utilizar celdas Markdown y Code\", \n",
    "             \"4.- Crear listas ordenadas y desordenadas\",\n",
    "             \"5.- Crear tablas\", \n",
    "             \"6.- Utilizar expresiones aritméticas\",\n",
    "             \"    6.1.- Multiplicar y sumar números\",\n",
    "             \"    6.2.- Operación de división\", \n",
    "             \"7.- Insertar celdas en medio de un cuader Jupyter\",\n",
    "             \"8.- Añadir el autor\",\n",
    "             \"9.- Compartir un cuaderno Júpyter\"]\n",
    "\n",
    "\n",
    "for s in objetivos:\n",
    "    print(s)"
   ]
  },
  {
   "cell_type": "markdown",
   "id": "abd14f07-bf77-4c35-92d2-a0046fc8ddc3",
   "metadata": {},
   "source": [
    "Some of the popular languages that Data Scientists use are:\n"
   ]
  },
  {
   "cell_type": "code",
   "execution_count": 23,
   "id": "2b43c264-7ced-406a-a390-62bcb73c60c5",
   "metadata": {},
   "outputs": [
    {
     "name": "stdout",
     "output_type": "stream",
     "text": [
      "1 Python\n",
      "2 R\n",
      "3 Java\n",
      "4 Julia\n",
      "5 JavaScript\n",
      "6 C++\n",
      "7 ...\n"
     ]
    }
   ],
   "source": [
    "mi_lista=[\"1 Python\",\"2 R\",\"3 Java\",\"4 Julia\",\"5 JavaScript\",\"6 C++\", \"7 ...\"]\n",
    "for s in mi_lista:\n",
    "    print(s)  # este print va con indentación"
   ]
  },
  {
   "cell_type": "markdown",
   "id": "998c4da2-0091-4dc3-8644-397558921ce5",
   "metadata": {},
   "source": [
    "Some of the commonly used libraries used by Data Scientists include:"
   ]
  },
  {
   "cell_type": "code",
   "execution_count": 29,
   "id": "7eb5feff-81da-4b38-9d57-000e3e2d8d62",
   "metadata": {},
   "outputs": [
    {
     "name": "stdout",
     "output_type": "stream",
     "text": [
      "1 NumPy\n",
      "2 Pandas\n",
      "3 Matplotlib\n",
      "4 ...\n"
     ]
    }
   ],
   "source": [
    "mi_lista=[\"1 NumPy\",\"2 Pandas\",\"3 Matplotlib\", \"4 ...\"]\n",
    "for s in mi_lista:\n",
    "    print(s)  # este print va con indentación"
   ]
  },
  {
   "cell_type": "markdown",
   "id": "0fec0d64-661b-41ba-8c37-e9f3f4c5b40b",
   "metadata": {},
   "source": [
    "Ejercicio 6: Tabla de herramientas de ciencia de datos"
   ]
  },
  {
   "cell_type": "code",
   "execution_count": 41,
   "id": "034329d0-8b6f-471a-b887-86d1e609f049",
   "metadata": {},
   "outputs": [
    {
     "name": "stdout",
     "output_type": "stream",
     "text": [
      "Data Science Tools\n",
      "Pandas\n",
      "Cuadernos Jupyter\n",
      "MLFlow\n"
     ]
    }
   ],
   "source": [
    "herramientas = ['Data Science Tools', 'Pandas', 'Cuadernos Jupyter', 'MLFlow' ]\n",
    "for s in herramientas:\n",
    "    print(s)  \n"
   ]
  },
  {
   "cell_type": "markdown",
   "id": "03b2baed-765d-4aea-b35f-cda3829c946b",
   "metadata": {},
   "source": [
    "### Below are a few examples of evaluating arithmetic expressions in Python"
   ]
  },
  {
   "cell_type": "markdown",
   "id": "1686a6d5-c805-4288-97e0-2b8e67236f8d",
   "metadata": {},
   "source": [
    "Ejercicio 8 - Crear una celda de código para multiplicar y sumar números"
   ]
  },
  {
   "cell_type": "code",
   "execution_count": 45,
   "id": "086f9e32-2354-4781-9d7a-9bae99288535",
   "metadata": {},
   "outputs": [
    {
     "data": {
      "text/plain": [
       "17"
      ]
     },
     "execution_count": 45,
     "metadata": {},
     "output_type": "execute_result"
    }
   ],
   "source": [
    "# This a simple arithmetic expression to mutiply then add integers\n",
    "(3*4)+5"
   ]
  },
  {
   "cell_type": "markdown",
   "id": "c8ee38a8-3dc2-478a-88c5-de6813b3e717",
   "metadata": {},
   "source": [
    "Ejercicio 9 - Crear una celda de código para convertir minutos a horas"
   ]
  },
  {
   "cell_type": "code",
   "execution_count": 61,
   "id": "4a411b5f-3b17-46df-9435-00980ec22ea1",
   "metadata": {},
   "outputs": [
    {
     "data": {
      "text/plain": [
       "3.3333333333333335"
      ]
     },
     "execution_count": 61,
     "metadata": {},
     "output_type": "execute_result"
    }
   ],
   "source": [
    "#  This will convert 200 minutes to hours by diving by 60\n",
    "(200)/60"
   ]
  },
  {
   "cell_type": "markdown",
   "id": "32cfa21f-52ce-4c76-a849-be7970bbe4bb",
   "metadata": {},
   "source": [
    "## Author:"
   ]
  },
  {
   "cell_type": "markdown",
   "id": "c14676f0-cb42-4005-83a5-b553974e31f0",
   "metadata": {},
   "source": [
    "Rosa Delia Pestana Pérez"
   ]
  },
  {
   "cell_type": "code",
   "execution_count": null,
   "id": "be4226cb-0ef1-418c-88df-076f1ce41e65",
   "metadata": {},
   "outputs": [],
   "source": []
  }
 ],
 "metadata": {
  "kernelspec": {
   "display_name": "Python 3 (ipykernel)",
   "language": "python",
   "name": "python3"
  },
  "language_info": {
   "codemirror_mode": {
    "name": "ipython",
    "version": 3
   },
   "file_extension": ".py",
   "mimetype": "text/x-python",
   "name": "python",
   "nbconvert_exporter": "python",
   "pygments_lexer": "ipython3",
   "version": "3.12.4"
  }
 },
 "nbformat": 4,
 "nbformat_minor": 5
}
