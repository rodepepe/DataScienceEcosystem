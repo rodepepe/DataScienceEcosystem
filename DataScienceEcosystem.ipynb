{
 "cells": [
  {
   "cell_type": "markdown",
   "id": "8d4e9151-dcff-40ff-b1e1-f56de6045126",
   "metadata": {},
   "source": [
    "# Data Science Tools and Ecosystem"
   ]
  },
  {
   "cell_type": "markdown",
   "id": "5d0429eb-7613-4b1d-ac96-52e3b82ab370",
   "metadata": {},
   "source": [
    "In this notebook, Data Science Tools and Ecosystem are summarized."
   ]
  },
  {
   "cell_type": "markdown",
   "id": "48c6f132-2076-4aca-90d5-9b794c6218c9",
   "metadata": {},
   "source": [
    "**Objectives:**"
   ]
  },
  {
   "cell_type": "markdown",
   "id": "5374a3b1-e6ea-4edb-b22d-a00d166a6aad",
   "metadata": {
    "jp-MarkdownHeadingCollapsed": true
   },
   "source": [
    "&emsp;1.- Crear un cuaderno en Júpiter </br>\n",
    "&emsp;2.- Crear títulos </br>\n",
    "&emsp;3.- Utilizar celdas Markdown y Code </br>\n",
    "&emsp;4.- Crear listas ordenadas y desordenadas </br>\n",
    "&emsp;5.- Crear tablas </br>\n",
    "&emsp;6.- Utilizar expresiones aritméticas </br>\n",
    "&emsp;&emsp;6.1.- Multiplicar y sumar números </br>\n",
    "&emsp;&emsp;6.2.- Operación de división  </br>\n",
    "&emsp;7.- Insertar celdas en medio de un cuader Jupyter </br>\n",
    "&emsp;8.- Añadir el autor </br>\n",
    "&emsp;9.- Compartir un cuaderno Júpyter </br>\n"
   ]
  },
  {
   "cell_type": "markdown",
   "id": "53d0bb16-9f4a-42f0-baaf-756d20301570",
   "metadata": {},
   "source": [
    "#### Some of the popular languages that Data Scientists use are:\n",
    "&emsp;1 Python </br>\n",
    "&emsp;2 R </br>\n",
    "&emsp;3 Java </br>\n",
    "&emsp;4 Julia </br>\n",
    "&emsp;5 JavaScript </br>\n",
    "&emsp;6 C++ </br>\n",
    "&emsp;7 ... </br> \n"
   ]
  },
  {
   "cell_type": "markdown",
   "id": "64812995-f703-41d1-85af-c7cc018462ec",
   "metadata": {},
   "source": [
    "#### Some of the commonly used libraries used by Data Scientists include:\n",
    "&emsp;1 NumPy </br>\n",
    "&emsp;2 Pandas </br>\n",
    "&emsp;3 Matplotlib </br>\n",
    "&emsp;4 ...\n"
   ]
  },
  {
   "cell_type": "markdown",
   "id": "18929094-5929-4eea-82f9-df0cd877ae8a",
   "metadata": {},
   "source": [
    "#### Ejercicio 6: Tabla de herramientas de ciencia de datos\n",
    "\n",
    "&emsp;-Data Science Tools</br>\n",
    "&emsp;-Pandas</br>\n",
    "&emsp;-Cuadernos Jupyter</br>\n",
    "&emsp;-MLFlow</br>\n"
   ]
  },
  {
   "cell_type": "markdown",
   "id": "03b2baed-765d-4aea-b35f-cda3829c946b",
   "metadata": {},
   "source": [
    "### Below are a few examples of evaluating arithmetic expressions in Python"
   ]
  },
  {
   "cell_type": "markdown",
   "id": "1686a6d5-c805-4288-97e0-2b8e67236f8d",
   "metadata": {},
   "source": [
    "Ejercicio 8 - Crear una celda de código para multiplicar y sumar números"
   ]
  },
  {
   "cell_type": "code",
   "execution_count": 45,
   "id": "086f9e32-2354-4781-9d7a-9bae99288535",
   "metadata": {},
   "outputs": [
    {
     "data": {
      "text/plain": [
       "17"
      ]
     },
     "execution_count": 45,
     "metadata": {},
     "output_type": "execute_result"
    }
   ],
   "source": [
    "# This a simple arithmetic expression to muLtiply then add integers\n",
    "(3*4)+5"
   ]
  },
  {
   "cell_type": "markdown",
   "id": "c8ee38a8-3dc2-478a-88c5-de6813b3e717",
   "metadata": {},
   "source": [
    "Ejercicio 9 - Crear una celda de código para convertir minutos a horas"
   ]
  },
  {
   "cell_type": "code",
   "execution_count": 61,
   "id": "4a411b5f-3b17-46df-9435-00980ec22ea1",
   "metadata": {},
   "outputs": [
    {
     "data": {
      "text/plain": [
       "3.3333333333333335"
      ]
     },
     "execution_count": 61,
     "metadata": {},
     "output_type": "execute_result"
    }
   ],
   "source": [
    "#  This will convert 200 minutes to hours by diving by 60\n",
    "(200)/60"
   ]
  },
  {
   "cell_type": "markdown",
   "id": "32cfa21f-52ce-4c76-a849-be7970bbe4bb",
   "metadata": {},
   "source": [
    "## Author:"
   ]
  },
  {
   "cell_type": "markdown",
   "id": "c14676f0-cb42-4005-83a5-b553974e31f0",
   "metadata": {},
   "source": [
    "Rosa Delia Pestana Pérez"
   ]
  },
  {
   "cell_type": "code",
   "execution_count": null,
   "id": "be4226cb-0ef1-418c-88df-076f1ce41e65",
   "metadata": {},
   "outputs": [],
   "source": []
  }
 ],
 "metadata": {
  "kernelspec": {
   "display_name": "Python 3 (ipykernel)",
   "language": "python",
   "name": "python3"
  },
  "language_info": {
   "codemirror_mode": {
    "name": "ipython",
    "version": 3
   },
   "file_extension": ".py",
   "mimetype": "text/x-python",
   "name": "python",
   "nbconvert_exporter": "python",
   "pygments_lexer": "ipython3",
   "version": "3.12.4"
  }
 },
 "nbformat": 4,
 "nbformat_minor": 5
}
